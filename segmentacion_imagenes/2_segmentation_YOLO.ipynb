{
 "cells": [
  {
   "cell_type": "code",
   "execution_count": 1,
   "id": "d2416160",
   "metadata": {},
   "outputs": [
    {
     "name": "stdout",
     "output_type": "stream",
     "text": [
      " Volume in drive C has no label.\n",
      " Volume Serial Number is 8689-E141\n",
      "\n",
      " Directory of c:\\Users\\jaayg\\OneDrive\\Escritorio\\computanional_vision\\c_vision_v2\\segmentacion_imagenes\n",
      "\n",
      "05/28/2025  10:27 AM    <DIR>          .\n",
      "05/28/2025  10:26 AM    <DIR>          ..\n",
      "05/25/2025  08:23 PM             3,536 1_segmentacion_YOLO.py\n",
      "05/28/2025  10:28 AM            14,685 2_segmentation_YOLO.ipynb\n",
      "               2 File(s)         18,221 bytes\n",
      "               2 Dir(s)  181,856,808,960 bytes free\n"
     ]
    }
   ],
   "source": [
    "!dir"
   ]
  },
  {
   "cell_type": "code",
   "execution_count": 2,
   "id": "8e70066f",
   "metadata": {},
   "outputs": [],
   "source": [
    "video_path = './procesamemiento_imagenes/data/store-aisle-detection.mp4'"
   ]
  },
  {
   "cell_type": "code",
   "execution_count": null,
   "id": "087ba84d",
   "metadata": {},
   "outputs": [
    {
     "name": "stdout",
     "output_type": "stream",
     "text": [
      "Downloading https://github.com/ultralytics/assets/releases/download/v8.3.0/yolo11n-seg.pt to 'yolo11n-seg.pt'...\n"
     ]
    },
    {
     "name": "stderr",
     "output_type": "stream",
     "text": [
      "100%|██████████| 5.90M/5.90M [00:00<00:00, 34.9MB/s]\n"
     ]
    }
   ],
   "source": [
    "import cv2\n",
    "import numpy as np\n",
    "import matplotlib.pyplot as plt\n",
    "from ultralytics import YOLO\n",
    "\n",
    "# Open the video file\n",
    "cap = cv2.VideoCapture(video_path)\n",
    "\n",
    "#Create background subtractor\n",
    "bg_subtractor = cv2.createBackgroundSubtractorMOG2(\n",
    "    history=500,\n",
    "    varThreshold=16,\n",
    "    detectShadows=True\n",
    ")\n",
    "\n",
    "heatmap_refined = None\n",
    "\n",
    "# load YOLOv11 model to segmentation\n",
    "model = YOLO('yolo11n-seg')\n",
    "\n",
    "while True:\n",
    "    ret, frame = cap.read()\n",
    "    if not ret:\n",
    "        break\n",
    "\n",
    "    #Initialize the accumulator for the heatmap\n",
    "    if heatmap_refined is None:\n",
    "        heatmap_refined = np.zeros(frame.shape[:2], dtype=np.float32)\n",
    "\n",
    "    # --- Step 1: Background Subtraction ---\n",
    "    fgmask = bg_subtractor.apply(frame)\n",
    "    # Threshold the foreground mask to create a binary mask\n",
    "    _, fgmask = cv2.threshold(fgmask, 200, 255, cv2.THRESH_BINARY)\n",
    "\n",
    "    # --- Step 2: Segmentation with YOLO ---\n",
    "    # Realizing the detection with segmentation in the whole frame\n",
    "    results = model(frame, verbose=False)[0]\n",
    "\n",
    "    #Creat an empty mask for accumulationg the segmentations from the class 'persone'\n",
    "    segmentation_mask = np.zeros(frame.shape[:2], dtype=np.uint8)\n",
    "\n",
    "    if results.masks is not None:\n",
    "        # Extract the masks for the class 'person'\n",
    "        masks = results.masks.data.cpu().numpy() if hasattr(results.masks, 'cpu') else results.masks.data\n",
    "        classes = results.boxes.cls.cpu().numpy() if hasattr(results.boxes.cls, 'cpu') else results.boxes.cls\n",
    "\n",
    "        for mask, cls in zip(masks, classes):\n",
    "            if int(cls) == 0: # Filter for the class 'person'\n",
    "                mask_bin = (mask > 0.5).astype(np.uint8) * 255\n",
    "                #Resize mask_bin to the original frame size\n",
    "                mask_bin_resized = cv2.resize(mask_bin, (segmentation_mask.shape[1], segmentation_mask.shape[0]), interpolation=cv2.INTER_NEAREST)\n",
    "                segmentation_mask = cv2.bitwise_or(segmentation_mask, mask_bin_resized)\n",
    "\n",
    "    # --- Paso 3: Mixing masks ---\n",
    "    # Realizing an intersection between the foreground mask and the segmentation mask\n",
    "    refined_mask = cv2.bitwise_and(fgmask, segmentation_mask)\n",
    "\n",
    "    # Acumulate the refined mask into the heatmap\n",
    "    heatmap_refined = cv2.add(heatmap_refined, refined_mask.astype(np.float32))\n",
    "\n",
    "    # Intermediate visualization\n",
    "    cv2.imshow(\"Frame Original\", frame)\n",
    "    cv2.imshow(\"Mascara Movimiento (FG)\", fgmask)\n",
    "    cv2.imshow(\"Mascara Segmentacion (Personas)\", segmentation_mask)\n",
    "    cv2.imshow(\"Mascara Refinada\", refined_mask)\n",
    "\n",
    "    if cv2.waitKey(1) & 0xFF == ord('q'):\n",
    "        break\n",
    "\n",
    "\n",
    "cap.release()\n",
    "cv2.destroyAllWindows()\n"
   ]
  }
 ],
 "metadata": {
  "kernelspec": {
   "display_name": "base",
   "language": "python",
   "name": "python3"
  },
  "language_info": {
   "codemirror_mode": {
    "name": "ipython",
    "version": 3
   },
   "file_extension": ".py",
   "mimetype": "text/x-python",
   "name": "python",
   "nbconvert_exporter": "python",
   "pygments_lexer": "ipython3",
   "version": "3.10.9"
  }
 },
 "nbformat": 4,
 "nbformat_minor": 5
}
